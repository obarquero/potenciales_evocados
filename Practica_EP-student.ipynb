{
 "cells": [
  {
   "cell_type": "markdown",
   "metadata": {},
   "source": [
    "# Práctica Potenciales Evocados"
   ]
  },
  {
   "cell_type": "markdown",
   "metadata": {},
   "source": [
    "## Authors\n",
    "\n",
    "### Óscar Barquero Pérez (<oscar.barquero@urjc.es>) y Rebeca Goya Esteban (<rebeca.goyaesteban@urjc.es>)\n",
    "\n",
    "### Date 22nd Nov 2018\n",
    "\n",
    "<a rel=\"license\" href=\"http://creativecommons.org/licenses/by-nc-sa/4.0/\"><img alt=\"Licencia de Creative Commons\" style=\"border-width:0\" src=\"https://i.creativecommons.org/l/by-nc-sa/4.0/88x31.png\" /></a><br />Este obra está bajo una <a rel=\"license\" href=\"http://creativecommons.org/licenses/by-nc-sa/4.0/\">licencia de Creative Commons Reconocimiento-NoComercial-CompartirIgual 4.0 Internacional</a>. "
   ]
  },
  {
   "cell_type": "markdown",
   "metadata": {},
   "source": [
    "## Datos"
   ]
  },
  {
   "cell_type": "markdown",
   "metadata": {},
   "source": [
    "Desafortunadamente, este año todavía no tenemos el dispositivo adecuado para adqurir nuestros propios potenciales evocados. Digo esto con la esperanza de que el año que viene esta frase no sea más que un mero recuerdo. No hay problema, vamos a realizar nuestro primer análisis de procesamiento de señales fisiológicas en Python.\n",
    "\n",
    "Para ello vamos a utilizar unos datos de somatosensory EPs, amablemente cedidos por los profesores Leif Sörnmo y Pablo Laguna. \n",
    "\n",
    "La señal de EEG para registra los EPs se muestreoó a 3200 Hz y contiene 2840 estímulos. Cada somatosensory Evoked Potential tiene una duración total de 80 ms (es decir, 256 muestras), de los cuales 40 ms preceden al estímulo y otros 40 ms los siguen.  Todos los EPs se han registrado concatenados en una única señal que contiene 727040 muestras. \n",
    "\n",
    "Durante el registro de los EP se administró una droga después de 1420 estímulos, por lo que la morfología de la señal puede cambiar depués de este estímulo en particular, debido al efecto de la droga."
   ]
  },
  {
   "cell_type": "markdown",
   "metadata": {},
   "source": [
    "### Ejercicio 1\n",
    "\n",
    "El primer ejercicio de esta práctia consistirá en la lectura de los datos de EP, que se encuentran en un fichero de texto con formato csv. El objetivo del alumno es identificar la función de numpy que le permitirá leer la señal de EP. Ésta se encuentra almacenada en el fichero de texto ep.csv"
   ]
  },
  {
   "cell_type": "code",
   "execution_count": 3,
   "metadata": {
    "collapsed": false
   },
   "outputs": [],
   "source": [
    "%matplotlib inline\n",
    "import numpy as np\n"
   ]
  },
  {
   "cell_type": "markdown",
   "metadata": {},
   "source": [
    "**¿Qué es lo primero que deberíamos hacer, una vez que tenemos los datos cargados?**"
   ]
  },
  {
   "cell_type": "code",
   "execution_count": 2,
   "metadata": {
    "collapsed": true
   },
   "outputs": [],
   "source": []
  },
  {
   "cell_type": "code",
   "execution_count": null,
   "metadata": {
    "collapsed": false
   },
   "outputs": [],
   "source": []
  },
  {
   "cell_type": "markdown",
   "metadata": {
    "collapsed": true
   },
   "source": [
    "### Noise reduction\n",
    "\n",
    "El objetivo de esta práctica es triple:\n",
    "    * 1) Obtener el estimador ML del potencial evocado.\n",
    "    * 2) Verificar la evolución del potencial evocado a lo largo del estudio.\n",
    "    * 3) Comparar el potencial evocado antes y después de la administración de la droga.\n",
    "\n",
    "En este punto cabe recordar como se obtenía el estimador ML, bajo la asunción de muestras iid con un ruído añadido que sigue una distribución Gauss de media 0 y varianza $\\sigma^2$: \n",
    "\n",
    "$p(\\boldsymbol{v_i}) \\sim \\mathcal{G}(0,\\sigma^2)$\n",
    "\n",
    "De esta forma el modelo de señal:\n",
    "\n",
    "$$x_i(n) = s(n) + v_i(n)$$\n",
    "\n",
    "Bajo estas asunciones el estimador ML, $\\hat{\\textbf{s}}_{ML}$, del PE resulta ser (en este punto sería conveniente que el alumno relea los apuntes de la asignatura):\n",
    "\n",
    "$$\\hat{\\textbf{s}}_{ML} = \\frac{1}{M}\\sum^{M}_{i=0}\\textbf{x}_i$$"
   ]
  },
  {
   "cell_type": "markdown",
   "metadata": {
    "collapsed": true
   },
   "source": [
    "### Ejercicio 2\n",
    "\n",
    "En este apartado el alumno deberá obtener el estimador ML del potencial evocado para un conjunto de SEP de diferente tamaño. Para ello el alumno deberá completar los siguientes pasos\n",
    "\n",
    "#### Ejercicio 2.1\n",
    "En este paso el alumno deberá obtener una matriz con tantas filas como SEP se pidan y tantas columnas como muestras haya en cada SEP (256 muestras). Para ello, se recomienda verificar qué función de numpy permite hacer reshape de un vector. Se pide al alumno que realice este proceso para diferente número de episodios: 10, 25, 50, 100, 200\n",
    "\n",
    "¿Qué es lo primero que deberíamos hacer cuando tenemos la matriz para trabajar?"
   ]
  },
  {
   "cell_type": "code",
   "execution_count": null,
   "metadata": {
    "collapsed": false
   },
   "outputs": [],
   "source": []
  },
  {
   "cell_type": "markdown",
   "metadata": {},
   "source": [
    "#### Ejercicio 2.2\n",
    "\n",
    "Una vez que tenemos los diferentes SEP organizados de forma adecuada no queda nada más que obtener el estimado ML a partir de los datos que tenemos. Se pide obtener el estimador ML para los diferentes número de SEP especificados en el apartado anterior. Pinte las diferente soluciones y analice los resultados"
   ]
  },
  {
   "cell_type": "code",
   "execution_count": null,
   "metadata": {
    "collapsed": false
   },
   "outputs": [],
   "source": []
  },
  {
   "cell_type": "markdown",
   "metadata": {},
   "source": [
    "#### Ejercicio 2.4\n",
    "\n",
    "En este apartado el alumno deberá analizar la evolución temporal del SEP, antes de la administración de la droga. Para ello utilizaremos un número de 200 SEP para obtener el estimador SEP ML. De esta forma obtendremos 7 SEP ML, dado que el número de estímulos ante de la droga son 1420.\n",
    "\n",
    "Represente la evolución temporal del SEP ML\n",
    "\n",
    "#### **Ejercicio 2.4 (Opcional) **\n",
    "\n",
    "En el ejercico anterior vemos visualmente la evolución temporal del SEP. Sería más riguroso verficar cómo se modifican los valores que se pueden medir en el SEP, es decir, se podrían calcular las latencias para el pico positivo y el pico negativo. En este ejercicio opcional se propone calcular la latencia del primer pico positivo (con respecto al origen de cada SEP ML) y la latencial de primer pico negativo. Representar estos valores para los 7 SEP ML antes de la administración de la droga"
   ]
  },
  {
   "cell_type": "code",
   "execution_count": null,
   "metadata": {
    "collapsed": false
   },
   "outputs": [],
   "source": []
  },
  {
   "cell_type": "code",
   "execution_count": null,
   "metadata": {
    "collapsed": false
   },
   "outputs": [],
   "source": []
  },
  {
   "cell_type": "code",
   "execution_count": null,
   "metadata": {
    "collapsed": false
   },
   "outputs": [],
   "source": []
  },
  {
   "cell_type": "markdown",
   "metadata": {},
   "source": [
    "#### Ejercicio 2.5\n",
    "\n",
    "En este caso vamos a comparar el estímulo antes y después de la administración de la droga. Para ello vamos a utilizar todos los SEPs disponibles, antes y depués, para realizar el filtrado, es decir para obtener el estimador ML. Aquí aprovechamos las propiedades del estimador, bajo las asunciones del modelo: insesgado y consistente en varianza.\n",
    "\n",
    "Representar el resultado y calcular la latencia del pico positivo y negativo"
   ]
  },
  {
   "cell_type": "code",
   "execution_count": null,
   "metadata": {
    "collapsed": true
   },
   "outputs": [],
   "source": []
  },
  {
   "cell_type": "markdown",
   "metadata": {},
   "source": [
    "### Pensar un poco\n",
    "\n",
    "<img src=\"think.png\" style=\"width: 100px;\" style=\"float: left;\"/>\n",
    "\n",
    "\n",
    "Una vez que el alumno ha obtenido los estimados ML del SEP antes y depués de la administración de la droga, se puede reflexionar sobre la gráfica. Conteste a las siguientes preguntas:\n",
    "* Proponga al menos dos medidas más para caracterizar los SEP y que permitan comparar los SEP de forma cuantitativa. Impleméntelos.\n",
    "* Qué método de procesamiento de señal de los vistos en la asignatura cree que se podría usar para analizar la señal. (Opcional) Implementelo.\n",
    "* Qué conclusión, desde el punto de vista fisiológico, puede sacar sobre la acción de la droga, a la vista de los resultados."
   ]
  },
  {
   "cell_type": "code",
   "execution_count": null,
   "metadata": {
    "collapsed": true
   },
   "outputs": [],
   "source": []
  }
 ],
 "metadata": {
  "kernelspec": {
   "display_name": "Python 2",
   "language": "python",
   "name": "python2"
  },
  "language_info": {
   "codemirror_mode": {
    "name": "ipython",
    "version": 2
   },
   "file_extension": ".py",
   "mimetype": "text/x-python",
   "name": "python",
   "nbconvert_exporter": "python",
   "pygments_lexer": "ipython2",
   "version": "2.7.11"
  }
 },
 "nbformat": 4,
 "nbformat_minor": 0
}
